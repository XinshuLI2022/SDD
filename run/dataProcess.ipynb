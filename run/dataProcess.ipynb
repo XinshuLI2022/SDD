{
 "cells": [
  {
   "cell_type": "markdown",
   "metadata": {},
   "source": [
    "# setPath"
   ]
  },
  {
   "cell_type": "code",
   "execution_count": null,
   "metadata": {},
   "outputs": [],
   "source": [
    "from sys import path\n",
    "path.append(r\"../\")\n",
    "\n",
    "dataDir='../Data/Causal/'\n",
    "storage_path='../Data/'"
   ]
  },
  {
   "cell_type": "markdown",
   "metadata": {},
   "source": [
    "# dataGenerator"
   ]
  },
  {
   "cell_type": "code",
   "execution_count": null,
   "metadata": {
    "scrolled": true,
    "tags": []
   },
   "outputs": [],
   "source": [
    "from generator import Syn_Generator,  Twins_Generator\n",
    "\n",
    "Syn_0102 = Syn_Generator(n=10000, ate=0,by=1,sc=1,sh=0,one=1,VX=0,mV=0,mX=10,mZ=4,mC=4,mA=2,mU=2,init_seed=7,seed_coef=10,details=1,storage_path=storage_path)\n",
    "Syn_0102.run(n=10000, num_reps=10)\n",
    "\n",
    "Syn_2102 = Syn_Generator(n=10000, ate=0,by=1,sc=1,sh=0,one=1,VX=0,mV=2,mX=10,mZ=4,mC=4,mA=2,mU=2,init_seed=7,seed_coef=10,details=1,storage_path=storage_path)\n",
    "Syn_2102.run(n=10000, num_reps=10)\n",
    "\n",
    "\n",
    "Twins_4168 = Twins_Generator(sc=1, sh=0, one=1,VX=0,mV=4, mX=16, mZC=12,mA=4,mU=8, details=1,dataDir=dataDir, storage_path=storage_path)\n",
    "Twins_4168.run(10)\n",
    "\n",
    "Twins_0168 = Twins_Generator(sc=1, sh=0, one=1,VX=0,mV=0, mX=16, mZC=12,mA=4,mU=8, details=1,dataDir=dataDir, storage_path=storage_path)\n",
    "Twins_0168.run(10)\n",
    "\n",
    "\n"
   ]
  }
 ],
 "metadata": {
  "kernelspec": {
   "display_name": "Python 3",
   "language": "python",
   "name": "python3"
  },
  "language_info": {
   "codemirror_mode": {
    "name": "ipython",
    "version": 3
   },
   "file_extension": ".py",
   "mimetype": "text/x-python",
   "name": "python",
   "nbconvert_exporter": "python",
   "pygments_lexer": "ipython3",
   "version": "3.6.8"
  },
  "vscode": {
   "interpreter": {
    "hash": "916dbcbb3f70747c44a77c7bcd40155683ae19c65e1c03b4aa3499c5328201f1"
   }
  }
 },
 "nbformat": 4,
 "nbformat_minor": 4
}
